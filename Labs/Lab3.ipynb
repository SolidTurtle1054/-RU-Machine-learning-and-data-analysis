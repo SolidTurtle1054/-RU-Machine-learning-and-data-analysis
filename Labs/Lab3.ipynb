{
  "nbformat": 4,
  "nbformat_minor": 0,
  "metadata": {
    "colab": {
      "name": "Lab3_Edited-Done.ipynb",
      "provenance": [],
      "collapsed_sections": []
    },
    "kernelspec": {
      "name": "python3",
      "display_name": "Python 3"
    },
    "language_info": {
      "name": "python"
    }
  },
  "cells": [
    {
      "cell_type": "code",
      "metadata": {
        "id": "CVkwya3_ipR5",
        "colab": {
          "base_uri": "https://localhost:8080/",
          "height": 681
        },
        "outputId": "5e43e551-5696-4c90-bd21-2c24df6d331e"
      },
      "source": [
        "import pandas as pd\n",
        "import numpy as np\n",
        "import matplotlib.pyplot as plt\n",
        "\n",
        "from sklearn.base import BaseEstimator\n",
        "from sklearn.datasets import load_diabetes\n",
        "from sklearn.model_selection import train_test_split, cross_val_predict, GridSearchCV, KFold \n",
        "from sklearn.linear_model import LinearRegression, Lasso, Ridge\n",
        "from sklearn.metrics import mean_squared_error, mean_absolute_error, r2_score, make_scorer\n",
        "from sklearn import linear_model \n",
        "from sklearn.preprocessing import scale\n",
        "from sklearn.svm import SVR\n",
        "\n",
        "data = load_diabetes()# 1. Загрузка стандартной выборки sklearn diabetes().\n",
        "\n",
        "X_train, X_test, y_train, y_test = train_test_split(data.data, data.target, train_size=0.7, random_state=241)# Разделение на обучающую и тестовую выборки в соотношении 7/3\n",
        "lr = LinearRegression().fit(X_train, y_train)\n",
        "print()\n",
        "print(\"Linear regression for reference\")\n",
        "print(\" Score on the train set: {:.2f}\".format(lr.score(X_train, y_train))) \n",
        "print(\" Score on the test set: {:.2f}\".format(lr.score(X_test, y_test)))\n",
        "print(\" lr.coef_: {}\".format(lr.coef_))\n",
        "print(\" lr.intercept_: {}\".format(lr.intercept_))\n",
        "print()\n",
        "\n",
        "lasso = Lasso(random_state=241).fit(X_train, y_train)# 2.Обучение линейной регрессии с регуляризаторами Lasso и Ridge\n",
        "print(\"Lasso\")\n",
        "print(\" Score in train set: {:.2f}\".format(lasso.score(X_train, y_train)))\n",
        "print(\" Score in test set: {:.2f}\".format(lasso.score(X_test, y_test)))\n",
        "print(\" lasso.coef_: {}\".format(lasso.coef_))\n",
        "print(\" lasso.intercept_: {}\".format(lasso.intercept_))\n",
        "print()\n",
        "\n",
        "ridge = Ridge(random_state=241).fit(X_train, y_train)\n",
        "print(\"Ridge\")\n",
        "print(\" Score in train set: {:.2f}\".format(ridge.score(X_train, y_train)))\n",
        "print(\" Score in test set: {:.2f}\".format(ridge.score(X_test, y_test)))\n",
        "print(\" ridge.coef_: {}\".format(ridge.coef_))\n",
        "print(\" ridge.intercept_: {}\".format(ridge.intercept_))\n",
        "print()\n",
        "\n",
        "alphas = [0.001, 0.01, 0.1, 1, 10, 100] # Построение графика зависимости числа ненулевых коэффициентов от коэффициента регуляризации.\n",
        "#alphas = np.arange(-10, 10, 0.1) # (from, to, step)\n",
        "\n",
        "coefs = [] \n",
        "e = 0.01 \n",
        "for a in alphas: \n",
        "    ridge = linear_model.Ridge(alpha=a, fit_intercept=False) \n",
        "    ridge.fit(X_train, y_train) \n",
        "    k = 0 \n",
        "    for i in range(len(ridge.coef_)): \n",
        "       if ridge.coef_[i] > e: \n",
        "          k = k + 1 \n",
        "    coefs.append(k) \n",
        "ax = plt.gca() \n",
        "ax.plot(alphas, coefs) \n",
        "ax.set_xscale('log') \n",
        "ax.set_xlim(ax.get_xlim()[::-1])   \n",
        "plt.xlabel('Коэффициент регуляризации') \n",
        "plt.ylabel('Число ненулевых коэффициентов') \n",
        "plt.title('Зависимость числа ненулевых коэффициентов от коэффициента регуляризации.') \n",
        "plt.show()"
      ],
      "execution_count": null,
      "outputs": [
        {
          "output_type": "stream",
          "name": "stdout",
          "text": [
            "\n",
            "Linear regression for reference\n",
            " Score on the train set: 0.54\n",
            " Score on the test set: 0.41\n",
            " lr.coef_: [ -43.80622171 -265.4353668   400.48498367  364.09281508 -918.66670754\n",
            "  605.71411163  192.05758742  321.0454638   868.16663632   88.02155757]\n",
            " lr.intercept_: 152.36792916625515\n",
            "\n",
            "Lasso\n",
            " Score in train set: 0.38\n",
            " Score in test set: 0.35\n",
            " lasso.coef_: [  0.           0.         274.32681397  48.58596734   0.\n",
            "   0.          -0.           0.         424.11801795   0.        ]\n",
            " lasso.intercept_: 152.0546824609995\n",
            "\n",
            "Ridge\n",
            " Score in train set: 0.45\n",
            " Score in test set: 0.36\n",
            " ridge.coef_: [  20.86524598  -58.00074047  231.26919104  186.6748608    33.3106947\n",
            "   -2.16998131 -150.95053633  141.35047981  250.75403183  123.1796716 ]\n",
            " ridge.intercept_: 152.1575365960103\n",
            "\n"
          ]
        },
        {
          "output_type": "display_data",
          "data": {
            "image/png": "[encoded data removed]",
            "text/plain": [
              "<Figure size 432x288 with 1 Axes>"
            ]
          },
          "metadata": {
            "needs_background": "light"
          }
        }
      ]
    },
    {
      "cell_type": "code",
      "metadata": {
        "colab": {
          "base_uri": "https://localhost:8080/"
        },
        "id": "WWAhmiZcjJde",
        "outputId": "0c21d4bd-6fa7-4ddf-bc5a-720c4bdd4ae2"
      },
      "source": [
        "preds = ridge.predict(X_test)# 3. Подсчёт метрик для Ridge\n",
        "mae = mean_squared_error(y_test, preds)\n",
        "rmse = np.sqrt(mae)\n",
        "mae = mean_absolute_error(y_test, preds)\n",
        "r2 = r2_score(y_test, preds)\n",
        "print(\"Metrics for Ridge\")\n",
        "print(\" RMSE: \", rmse)\n",
        "print(\" MAE: \", mae)\n",
        "print(\" R2: \", r2)\n",
        "print()"
      ],
      "execution_count": null,
      "outputs": [
        {
          "output_type": "stream",
          "name": "stdout",
          "text": [
            "Metrics for Ridge\n",
            " RMSE:  168.59763871094276\n",
            " MAE:  152.3641161794048\n",
            " R2:  -4.352397172279842\n",
            "\n"
          ]
        }
      ]
    },
    {
      "cell_type": "code",
      "metadata": {
        "colab": {
          "base_uri": "https://localhost:8080/",
          "height": 334
        },
        "id": "y4qal_R0jcJu",
        "outputId": "efe798ff-b865-404b-d903-c3574b3026f0"
      },
      "source": [
        "Estimator = Ridge() # 4. Построение графиков зависимости функции от потерь коэффициента регуляризации\n",
        "Param_Grid = { \"alpha\" : np.linspace(0, 1, 100)}  \n",
        "cv = KFold(5) \n",
        "Grid = GridSearchCV(Estimator, param_grid = Param_Grid, cv = cv, error_score = mae) \n",
        "Gridfit = Grid.fit(X_train, y_train) \n",
        "loss = [] \n",
        "alphaloss = [] \n",
        "alpha = 0.01 \n",
        "while alpha <= 1: \n",
        "    ridge = Ridge(alpha).fit(X_train, y_train)  \n",
        "    preds = ridge.predict(X_test) \n",
        "    loss.append(mean_squared_error(y_test, preds)) \n",
        "    alphaloss.append(alpha) \n",
        "    alpha += 0.1 \n",
        "plt.plot(alphaloss, loss) \n",
        "print(Grid.best_params_['alpha']) \n",
        "rg = Ridge(Grid.best_params_['alpha']).fit(X_train, y_train)  \n",
        "preds = rg.predict(X_test)  \n",
        "mse = mean_squared_error(y_test, preds)  \n",
        "rmse = np.sqrt(mse)  \n",
        "mae = mean_absolute_error(y_test, preds)  \n",
        "r2 = r2_score(y_test, preds)  \n",
        "print(\"RMSE: \", rmse)  \n",
        "print(\"MAE: \", mae)  \n",
        "print(\"R2: \", r2) \n"
      ],
      "execution_count": null,
      "outputs": [
        {
          "output_type": "stream",
          "name": "stdout",
          "text": [
            "0.04040404040404041\n",
            "RMSE:  55.6760533319048\n",
            "MAE:  47.081209881695074\n",
            "R2:  0.4163100155969037\n"
          ]
        },
        {
          "output_type": "display_data",
          "data": {
            "image/png": "[encoded data removed]",
            "text/plain": [
              "<Figure size 432x288 with 1 Axes>"
            ]
          },
          "metadata": {
            "needs_background": "light"
          }
        }
      ]
    },
    {
      "cell_type": "code",
      "metadata": {
        "colab": {
          "base_uri": "https://localhost:8080/",
          "height": 265
        },
        "id": "r9OqUKMgjf-l",
        "outputId": "242da656-a86c-4dce-a1be-fb90e4c44fbc"
      },
      "source": [
        "ridge_pred = cross_val_predict(ridge, X_train, y_train, cv = 5) # 5. Смотрим гистограмму ошибок\n",
        "main_value = y_train \n",
        "counter_errors = abs(ridge_pred - main_value) \n",
        "plt.hist(counter_errors) \n",
        "plt.show() \n"
      ],
      "execution_count": null,
      "outputs": [
        {
          "output_type": "display_data",
          "data": {
            "image/png": "[encoded data removed]",
            "text/plain": [
              "<Figure size 432x288 with 1 Axes>"
            ]
          },
          "metadata": {
            "needs_background": "light"
          }
        }
      ]
    },
    {
      "cell_type": "code",
      "metadata": {
        "colab": {
          "base_uri": "https://localhost:8080/"
        },
        "id": "wIPiDiZOjh1n",
        "outputId": "8df3c063-8718-43a9-fe5b-adc0c1cb34f6"
      },
      "source": [
        "ErrorArr = np.where(counter_errors < 45) # 6. Убрать выбросы (Всё, что меньше 45)\n",
        "print(ErrorArr)\n",
        "X_train = pd.DataFrame(X_train).iloc[ErrorArr] \n",
        "y_train = pd.DataFrame(y_train).iloc[ErrorArr] \n",
        "#ridge = Ridge(random_state=241) \n",
        "best_pred = cross_val_predict(ridge, X_train, y_train, cv=5) \n",
        "best_ridge = Ridge(Grid.best_params_['alpha']).fit(X_train, y_train) \n",
        "best_pred = best_ridge.predict(X_test)\n",
        "mse2 = mean_squared_error(y_test, best_pred) # Подсчёт метрик\n",
        "rmse2 = np.sqrt(mse2) \n",
        "mae2 = mean_absolute_error(y_test, best_pred) \n",
        "r22 = r2_score(y_test, best_pred) \n",
        "print(\"RMSE: \", rmse2) \n",
        "print(\"MAE: \", mae2) \n",
        "print(\"R2: \", r22)"
      ],
      "execution_count": null,
      "outputs": [
        {
          "output_type": "stream",
          "name": "stdout",
          "text": [
            "(array([  0,   2,   4,   7,   8,  12,  17,  19,  20,  23,  24,  25,  26,\n",
            "        27,  29,  30,  31,  32,  34,  36,  38,  39,  40,  41,  42,  46,\n",
            "        48,  49,  50,  51,  53,  55,  60,  62,  65,  67,  69,  71,  73,\n",
            "        74,  76,  79,  80,  81,  85,  86,  87,  89,  91,  99, 102, 103,\n",
            "       104, 105, 107, 114, 115, 117, 118, 119, 121, 123, 125, 126, 127,\n",
            "       129, 130, 136, 137, 139, 140, 142, 145, 146, 153, 156, 157, 158,\n",
            "       160, 161, 164, 165, 168, 169, 171, 172, 173, 174, 175, 176, 178,\n",
            "       179, 181, 186, 188, 190, 191, 193, 197, 198, 205, 206, 208, 210,\n",
            "       211, 214, 215, 217, 218, 219, 223, 224, 227, 228, 229, 230, 232,\n",
            "       233, 234, 235, 236, 237, 240, 242, 243, 244, 245, 246, 249, 250,\n",
            "       251, 253, 255, 259, 260, 263, 264, 265, 267, 270, 273, 275, 276,\n",
            "       280, 281, 284, 288, 291, 293, 295, 296, 297, 299, 302, 303, 306,\n",
            "       307]),)\n",
            "RMSE:  57.70717122795233\n",
            "MAE:  48.67907429801862\n",
            "R2:  0.3729460198076089\n"
          ]
        }
      ]
    }
  ]
}