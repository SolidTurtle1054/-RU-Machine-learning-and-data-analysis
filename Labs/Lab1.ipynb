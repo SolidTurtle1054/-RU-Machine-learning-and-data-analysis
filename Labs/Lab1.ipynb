{
  "nbformat": 4,
  "nbformat_minor": 0,
  "metadata": {
    "colab": {
      "name": "Lab1.ipynb",
      "provenance": [],
      "collapsed_sections": []
    },
    "kernelspec": {
      "name": "python3",
      "display_name": "Python 3"
    },
    "language_info": {
      "name": "python"
    }
  },
  "cells": [
    {
      "cell_type": "code",
      "execution_count": null,
      "metadata": {
        "id": "NMYNxIPKhT3T"
      },
      "outputs": [],
      "source": [
        "import pandas as pd\n",
        "import numpy  as np\n",
        "\n",
        "M = np.matrix([[4, 3, 18], [22, 11, 2], [0, 13, 3]])# Task1\n",
        "print(M)"
      ]
    },
    {
      "cell_type": "code",
      "source": [
        "M = np.random.normal(loc = 5, scale = 1, size = (6,3))# Task2\n",
        "print(M)"
      ],
      "metadata": {
        "id": "QhgvkTnqhe0K"
      },
      "execution_count": null,
      "outputs": []
    },
    {
      "cell_type": "code",
      "source": [
        "data = pd.read_csv('proceeds21.csv', index_col='Month')# Task3\n",
        "\n",
        "x_test_1 = data.loc[['m1','m2','m3','m4','m5','m6','m7','m8','m9','m10','m11','m12']].values\n",
        "r_1 = np.sum(x_test_1, axis=1)\n",
        "print(data.index.values[np.nonzero(r_1 > 400)])# В какой месяц суммарная выручка по отделам превысила 400\n",
        "\n",
        "x_test_2 = data[['Department1','Department2','Department3','Department4']].values\n",
        "r_2 = np.sum(x_test_2, axis=0)\n",
        "print(data.columns.values[np.argmax(r_2)])# Имя отдела с максимальной средней выручкой за год\n",
        "\n",
        "r_3 = np.std(x_test_2, axis=0)\n",
        "print(data.columns.values[np.argmax(r_3)])# Имя отдела с максимальной величиной стандартного отклонения прибыли"
      ],
      "metadata": {
        "id": "5SfvIcHahgKl"
      },
      "execution_count": null,
      "outputs": []
    }
  ]
}