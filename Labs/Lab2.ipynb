{
  "nbformat": 4,
  "nbformat_minor": 0,
  "metadata": {
    "colab": {
      "name": "Lab2.ipynb",
      "provenance": [],
      "collapsed_sections": []
    },
    "kernelspec": {
      "name": "python3",
      "display_name": "Python 3"
    },
    "language_info": {
      "name": "python"
    }
  },
  "cells": [
    {
      "cell_type": "code",
      "execution_count": null,
      "metadata": {
        "id": "JT4HKrlChlUj"
      },
      "outputs": [],
      "source": [
        "import pandas as pd\n",
        "from sklearn.tree import DecisionTreeClassifier\n",
        "\n",
        "df = pd.read_csv('abalone21.csv')# 1.Загрузка датасета\n",
        "\n",
        "df = df.dropna()# 2.Удаление объектов, у которых есть пропущенные значения"
      ]
    },
    {
      "cell_type": "code",
      "source": [
        "data = df.loc[:,['Sex', 'Length', 'Diameter', 'Height']]# 3.Выделение 4 признаков\n",
        "\n",
        "data.Sex=data.Sex.map({'M' : 1, 'F' : -1, 'I' : 0})# 4.Преобразование признака \"Sex\" в числовой\n",
        "\n",
        "main = df['Rings']# 5.Выделение целевой переменной"
      ],
      "metadata": {
        "id": "8xCU1M6hhyvU"
      },
      "execution_count": null,
      "outputs": []
    },
    {
      "cell_type": "code",
      "source": [
        "T = DecisionTreeClassifier(random_state=241)# 6.Обучение решающего дерева с параметром random_state = 241\n",
        "T.fit(data, main)\n",
        "       \n",
        "important = pd.Series(T.feature_importances_, index = list(data))# 7.Вычисление 2 наиважнейшых признаков\n",
        "important = important.sort_values(ascending=False).head(2);\n",
        "print(important);"
      ],
      "metadata": {
        "colab": {
          "base_uri": "https://localhost:8080/"
        },
        "id": "-dg-qqX_h1Z4",
        "outputId": "891dac13-4341-4489-d397-4c72606c80a3"
      },
      "execution_count": null,
      "outputs": [
        {
          "output_type": "stream",
          "name": "stdout",
          "text": [
            "Length      0.354672\n",
            "Diameter    0.327410\n",
            "dtype: float64\n"
          ]
        }
      ]
    }
  ]
}